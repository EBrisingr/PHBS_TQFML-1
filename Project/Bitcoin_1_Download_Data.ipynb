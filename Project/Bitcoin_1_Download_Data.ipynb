{
 "cells": [
  {
   "cell_type": "markdown",
   "metadata": {},
   "source": [
    "# Project : The price fluctuations of bitcoin"
   ]
  },
  {
   "cell_type": "markdown",
   "metadata": {},
   "source": [
    "### (1) Download Data from Internet"
   ]
  },
  {
   "cell_type": "markdown",
   "metadata": {},
   "source": [
    "First, we download the data of price of bitcoin from [https://blockchain.info/charts/], and save the data as python objects in the memory. We can download from the url the 'Json' formatted data, and we need to parse the Json data into Pandas DataFrame that we are able to cope with easily.\n",
    "\n",
    "The downloaded Json-formatted data is turned into a 'dict' type python object, which contains the following items:\n",
    "```\n",
    "data['unit']\n",
    "data['description']\n",
    "data['status']\n",
    "data['period']\n",
    "data['name']\n",
    "data['values'][0]['x']  # time\n",
    "data['values'][0]['y']  # year\n",
    "```\n",
    "We develope a `download_data_from_blockchain(..)` function making this downloading process much more easier."
   ]
  },
  {
   "cell_type": "code",
   "execution_count": 1,
   "metadata": {
    "scrolled": true
   },
   "outputs": [],
   "source": [
    "import requests\n",
    "import re\n",
    "import json\n",
    "\n",
    "import numpy as ny\n",
    "import pandas as pd\n",
    "\n",
    "def download_data_from_blockchain(timespan, item):\n",
    "    url = 'https://api.blockchain.info/charts/'+item+'?timespan='+time_span+'&format=json'\n",
    "    json_webpage = requests.get(url).content\n",
    "    json_obj = json.loads(json_webpage.decode('utf8'))\n",
    "    re_time = []\n",
    "    re_data = []\n",
    "    for data in json_obj['values']:\n",
    "        re_time.append(data['x'])\n",
    "        re_data.append(data['y'])\n",
    "    return(re_time, re_data)\n",
    "\n",
    "\n",
    "time_span = '1year'\n",
    "\n",
    "# 1. Download 'Currency statistics' datas from https://blockchain.info/charts/\n",
    "# \n",
    "# download market-price of bitcoin\n",
    "market_price_time, market_price_data = download_data_from_blockchain(time_span, 'market-price')\n",
    "\n",
    "# download The total number of bitcoins that have already been mined; \n",
    "# in other words, the current supply of bitcoins on the network.\n",
    "supply_time, supply_data = download_data_from_blockchain(time_span, 'total-bitcoins')\n",
    "\n",
    "# download the total USD value of bitcoin supply in circulation, \n",
    "# as calculated by the daily average market price across major exchanges.\n",
    "market_cap_time, market_cap_data = download_data_from_blockchain(time_span, 'market-cap')\n",
    "\n",
    "# downlad The total USD value of trading volume on major bitcoin exchanges.\n",
    "trade_vol_time, trade_vol_data = download_data_from_blockchain(time_span, 'trade-volume')\n",
    "\n",
    "# check whether the downloaded data matches with each other.\n",
    "# if supply_time == market_price_time:\n",
    "#     print(\"Yes, the 'supply' data is matches the 'market_price' data well.\")\n",
    "# if market_cap_time == market_price_time:\n",
    "#     print(\"Yes, the 'market_cap' data matches the 'market price' data well.\")\n",
    "# if trade_vol_time == market_price_time:\n",
    "#     print(\"Yes, the 'trade-vol' data matches the 'market price' data well.\")\n",
    "\n",
    "# print(market_price_time[0])  # the format of time needs to be transformed. \n",
    "# print()\n",
    "\n",
    "\n",
    "# Also we can download other features available on this website, such as:\n",
    "#\n",
    "#\n",
    "# 2. Mining information \n",
    "#\n",
    "# (1) difficulty : A relative measure of how difficult it is to find a new block. \n",
    "#                  The difficulty is adjusted periodically as a function of how \n",
    "#                  much hashing power has been deployed by the network of miners.\n",
    "# (2) miners-revenue : Total value of coinbase block rewards and transaction fees paid to miners.\n",
    "# (3) hash-rate : The estimated number of tera hashes per second \n",
    "#                 (trillions of hashes per second) the Bitcoin network is performing.\n",
    "# (4) transaction-fees : The total value of all transaction fees paid to miners \n",
    "#                 (not including the coinbase value of block rewards).\n",
    "# (5) transaction-fees-usd\n",
    "# (6) cost-per-transaction-percent : A chart showing miners revenue as percentage \n",
    "#                 of the transaction volume.\n",
    "# (7) cost-per-transaction : A chart showing miners revenue divided by the number of transactions.\n",
    "# \n",
    "#\n",
    "# 3. Network activity \n",
    "#\n",
    "#\n",
    "# 4. Blockchain Wallet Activity \n",
    "#\n",
    "#\n",
    "# 5. Block details \n",
    "# \n",
    "# ......\n",
    "# "
   ]
  },
  {
   "cell_type": "code",
   "execution_count": 2,
   "metadata": {},
   "outputs": [],
   "source": [
    "import time\n",
    "\n",
    "f_time = []\n",
    "for day in market_price_time:\n",
    "    time_array_day = time.localtime(day)\n",
    "    f_time_day = time.strftime(\"%Y-%m-%d\", time_array_day)\n",
    "    f_time.append(f_time_day)"
   ]
  },
  {
   "cell_type": "code",
   "execution_count": 3,
   "metadata": {},
   "outputs": [],
   "source": [
    "bc_data = list(zip(f_time, market_price_data, supply_data, market_cap_data, trade_vol_data))\n",
    "df = pd.DataFrame(data = bc_data, columns = ['date', 'price', 'supply', 'capital', 'trade'])\n",
    "\n",
    "# Memory Clear:\n",
    "#\n",
    "# market_price_time = None\n",
    "# market_price_data = None\n",
    "# supply_time = None\n",
    "# supply_data = None\n",
    "# market_cap_time =None\n",
    "# market_cap_data = None\n",
    "# trade_vol_time = None\n",
    "# trade_vol_data = None"
   ]
  },
  {
   "cell_type": "markdown",
   "metadata": {},
   "source": [
    "Secondly, it would be interesting if we search a little bite about 'Wicki searching' data. We can download the data from [https://tools.wmflabs.org/pageviews]."
   ]
  },
  {
   "cell_type": "code",
   "execution_count": 4,
   "metadata": {},
   "outputs": [
    {
     "name": "stdout",
     "output_type": "stream",
     "text": [
      "https://tools.wmflabs.org/pageviews/?pages=Bitcoin&range=all-time&project=en.wikipedia.org&platform=all-access&agent=user\n"
     ]
    }
   ],
   "source": [
    "page = '?pages=Bitcoin'\n",
    "dates_range = '&range=all-time'\n",
    "agent = '&agent=user'                 # 'all', 'spider', 'bot'\n",
    "platform = '&platform=all-access'     # 'Desktop', 'Mobile app', 'Mobile web'\n",
    "project = '&project=en.wikipedia.org'\n",
    "\n",
    "url = 'https://tools.wmflabs.org/pageviews/'+page+dates_range+project+platform+agent\n",
    "print(url)\n",
    "\n",
    "## Sorry, I have to admit that, the data is generated with JS dynamically, and we\n",
    "## need crawler if we want to do this in an automatical way, which is out of \n",
    "## my ability. Thus, I choose to download the data manually into a csv file."
   ]
  },
  {
   "cell_type": "code",
   "execution_count": 5,
   "metadata": {},
   "outputs": [],
   "source": [
    "wiki_data = pd.read_csv(\"./pageviews-20150701-20180501.csv\")\n",
    "wiki_data.columns = ['date', 'wiki']"
   ]
  },
  {
   "cell_type": "markdown",
   "metadata": {},
   "source": [
    "Also, there are many other data sourses that we can use. For example, we can download datas from [https://www.quandl.com/search], which is a free financial database, where we can find some financial relat. I would not display every detail of this data collection process. "
   ]
  },
  {
   "cell_type": "markdown",
   "metadata": {},
   "source": [
    "### (2) Merge DataFrames and save data in a file"
   ]
  },
  {
   "cell_type": "markdown",
   "metadata": {},
   "source": [
    "First, we need to merge the two data frames by a common attribute \"data\":"
   ]
  },
  {
   "cell_type": "code",
   "execution_count": 6,
   "metadata": {},
   "outputs": [
    {
     "data": {
      "text/html": [
       "<div>\n",
       "<style scoped>\n",
       "    .dataframe tbody tr th:only-of-type {\n",
       "        vertical-align: middle;\n",
       "    }\n",
       "\n",
       "    .dataframe tbody tr th {\n",
       "        vertical-align: top;\n",
       "    }\n",
       "\n",
       "    .dataframe thead th {\n",
       "        text-align: right;\n",
       "    }\n",
       "</style>\n",
       "<table border=\"1\" class=\"dataframe\">\n",
       "  <thead>\n",
       "    <tr style=\"text-align: right;\">\n",
       "      <th></th>\n",
       "      <th>date</th>\n",
       "      <th>price</th>\n",
       "      <th>supply</th>\n",
       "      <th>capital</th>\n",
       "      <th>trade</th>\n",
       "      <th>wiki</th>\n",
       "    </tr>\n",
       "  </thead>\n",
       "  <tbody>\n",
       "    <tr>\n",
       "      <th>0</th>\n",
       "      <td>2017-05-02</td>\n",
       "      <td>1452.076288</td>\n",
       "      <td>16307212.5</td>\n",
       "      <td>2.367932e+10</td>\n",
       "      <td>8.630647e+07</td>\n",
       "      <td>17143</td>\n",
       "    </tr>\n",
       "    <tr>\n",
       "      <th>1</th>\n",
       "      <td>2017-05-03</td>\n",
       "      <td>1507.576857</td>\n",
       "      <td>16308862.5</td>\n",
       "      <td>2.458686e+10</td>\n",
       "      <td>9.876808e+07</td>\n",
       "      <td>17277</td>\n",
       "    </tr>\n",
       "    <tr>\n",
       "      <th>2</th>\n",
       "      <td>2017-05-04</td>\n",
       "      <td>1508.292125</td>\n",
       "      <td>16310962.5</td>\n",
       "      <td>2.460170e+10</td>\n",
       "      <td>1.786810e+08</td>\n",
       "      <td>19238</td>\n",
       "    </tr>\n",
       "    <tr>\n",
       "      <th>3</th>\n",
       "      <td>2017-05-05</td>\n",
       "      <td>1533.335071</td>\n",
       "      <td>16312575.0</td>\n",
       "      <td>2.501264e+10</td>\n",
       "      <td>1.366548e+08</td>\n",
       "      <td>16900</td>\n",
       "    </tr>\n",
       "    <tr>\n",
       "      <th>4</th>\n",
       "      <td>2017-05-06</td>\n",
       "      <td>1560.410200</td>\n",
       "      <td>16314675.0</td>\n",
       "      <td>2.545759e+10</td>\n",
       "      <td>6.890728e+07</td>\n",
       "      <td>17793</td>\n",
       "    </tr>\n",
       "  </tbody>\n",
       "</table>\n",
       "</div>"
      ],
      "text/plain": [
       "         date        price      supply       capital         trade   wiki\n",
       "0  2017-05-02  1452.076288  16307212.5  2.367932e+10  8.630647e+07  17143\n",
       "1  2017-05-03  1507.576857  16308862.5  2.458686e+10  9.876808e+07  17277\n",
       "2  2017-05-04  1508.292125  16310962.5  2.460170e+10  1.786810e+08  19238\n",
       "3  2017-05-05  1533.335071  16312575.0  2.501264e+10  1.366548e+08  16900\n",
       "4  2017-05-06  1560.410200  16314675.0  2.545759e+10  6.890728e+07  17793"
      ]
     },
     "execution_count": 6,
     "metadata": {},
     "output_type": "execute_result"
    }
   ],
   "source": [
    "df = df.merge(wiki_data, on = 'date', how = 'inner')\n",
    "df.head()"
   ]
  },
  {
   "cell_type": "markdown",
   "metadata": {},
   "source": [
    "Then, save the data frame into a file:"
   ]
  },
  {
   "cell_type": "code",
   "execution_count": 7,
   "metadata": {},
   "outputs": [],
   "source": [
    "df.to_csv(\"./Bitcoin_data.csv\", index = False)"
   ]
  }
 ],
 "metadata": {
  "kernelspec": {
   "display_name": "Python 3",
   "language": "python",
   "name": "python3"
  },
  "language_info": {
   "codemirror_mode": {
    "name": "ipython",
    "version": 3
   },
   "file_extension": ".py",
   "mimetype": "text/x-python",
   "name": "python",
   "nbconvert_exporter": "python",
   "pygments_lexer": "ipython3",
   "version": "3.4.6"
  }
 },
 "nbformat": 4,
 "nbformat_minor": 2
}
