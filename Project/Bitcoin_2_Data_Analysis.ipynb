{
 "cells": [
  {
   "cell_type": "markdown",
   "metadata": {},
   "source": [
    "# Project : The price fluctuations of bitcoin"
   ]
  },
  {
   "cell_type": "markdown",
   "metadata": {},
   "source": [
    "### (1) Loading local file into python environment"
   ]
  },
  {
   "cell_type": "markdown",
   "metadata": {},
   "source": [
    "We have already excuted `Bitcoin_1_Download_Data.ipynb` file, and we have a `Bitcoin_data.csv` file under current path. Let's load the data into python environment:"
   ]
  },
  {
   "cell_type": "code",
   "execution_count": 1,
   "metadata": {},
   "outputs": [
    {
     "data": {
      "text/html": [
       "<div>\n",
       "<style scoped>\n",
       "    .dataframe tbody tr th:only-of-type {\n",
       "        vertical-align: middle;\n",
       "    }\n",
       "\n",
       "    .dataframe tbody tr th {\n",
       "        vertical-align: top;\n",
       "    }\n",
       "\n",
       "    .dataframe thead th {\n",
       "        text-align: right;\n",
       "    }\n",
       "</style>\n",
       "<table border=\"1\" class=\"dataframe\">\n",
       "  <thead>\n",
       "    <tr style=\"text-align: right;\">\n",
       "      <th></th>\n",
       "      <th>date</th>\n",
       "      <th>price</th>\n",
       "      <th>supply</th>\n",
       "      <th>capital</th>\n",
       "      <th>trade</th>\n",
       "      <th>wiki</th>\n",
       "    </tr>\n",
       "  </thead>\n",
       "  <tbody>\n",
       "    <tr>\n",
       "      <th>0</th>\n",
       "      <td>2017-05-02</td>\n",
       "      <td>1452.076288</td>\n",
       "      <td>16307212.5</td>\n",
       "      <td>2.367932e+10</td>\n",
       "      <td>8.630647e+07</td>\n",
       "      <td>17143</td>\n",
       "    </tr>\n",
       "    <tr>\n",
       "      <th>1</th>\n",
       "      <td>2017-05-03</td>\n",
       "      <td>1507.576857</td>\n",
       "      <td>16308862.5</td>\n",
       "      <td>2.458686e+10</td>\n",
       "      <td>9.876808e+07</td>\n",
       "      <td>17277</td>\n",
       "    </tr>\n",
       "    <tr>\n",
       "      <th>2</th>\n",
       "      <td>2017-05-04</td>\n",
       "      <td>1508.292125</td>\n",
       "      <td>16310962.5</td>\n",
       "      <td>2.460170e+10</td>\n",
       "      <td>1.786810e+08</td>\n",
       "      <td>19238</td>\n",
       "    </tr>\n",
       "    <tr>\n",
       "      <th>3</th>\n",
       "      <td>2017-05-05</td>\n",
       "      <td>1533.335071</td>\n",
       "      <td>16312575.0</td>\n",
       "      <td>2.501264e+10</td>\n",
       "      <td>1.366548e+08</td>\n",
       "      <td>16900</td>\n",
       "    </tr>\n",
       "    <tr>\n",
       "      <th>4</th>\n",
       "      <td>2017-05-06</td>\n",
       "      <td>1560.410200</td>\n",
       "      <td>16314675.0</td>\n",
       "      <td>2.545759e+10</td>\n",
       "      <td>6.890728e+07</td>\n",
       "      <td>17793</td>\n",
       "    </tr>\n",
       "  </tbody>\n",
       "</table>\n",
       "</div>"
      ],
      "text/plain": [
       "         date        price      supply       capital         trade   wiki\n",
       "0  2017-05-02  1452.076288  16307212.5  2.367932e+10  8.630647e+07  17143\n",
       "1  2017-05-03  1507.576857  16308862.5  2.458686e+10  9.876808e+07  17277\n",
       "2  2017-05-04  1508.292125  16310962.5  2.460170e+10  1.786810e+08  19238\n",
       "3  2017-05-05  1533.335071  16312575.0  2.501264e+10  1.366548e+08  16900\n",
       "4  2017-05-06  1560.410200  16314675.0  2.545759e+10  6.890728e+07  17793"
      ]
     },
     "execution_count": 1,
     "metadata": {},
     "output_type": "execute_result"
    }
   ],
   "source": [
    "import numpy as np\n",
    "import pandas as pd\n",
    "\n",
    "df = pd.read_csv(\"./Bitcoin_data.csv\")\n",
    "df.head()"
   ]
  },
  {
   "cell_type": "markdown",
   "metadata": {},
   "source": [
    "First of all, we need to display the data, and to find some interesting features:"
   ]
  },
  {
   "cell_type": "code",
   "execution_count": 2,
   "metadata": {},
   "outputs": [],
   "source": [
    "trade2 = df.trade / df.price\n",
    "trade2.name = \"trade2\"\n",
    "\n",
    "ln_price = np.log(df.price)\n",
    "ln_trade = np.log(df.trade)\n",
    "ln_trade2 = np.log(trade2)\n",
    "ln_wiki = np.log(df.wiki)"
   ]
  },
  {
   "cell_type": "markdown",
   "metadata": {},
   "source": [
    "### (2) Let's try to draw some patterns from the data"
   ]
  },
  {
   "cell_type": "markdown",
   "metadata": {},
   "source": [
    "Now, we first generate an \"interpreted\" variable, `y`, from the `price` attribute of dataframe `df`. We map the current price of bitcoin into a binary variable, 1 for 'going up' and -1 for 'going down', compared with the previous price. \n",
    "\n",
    "Also, we extract the explanary variables from dataframe `df`, and store them into a numpy array. We want to figure out the relation pattern of 'up' and 'down' with those explanatory variables."
   ]
  },
  {
   "cell_type": "code",
   "execution_count": 4,
   "metadata": {},
   "outputs": [
    {
     "data": {
      "image/png": "[encoded data removed]",
      "text/plain": [
       "<Figure size 432x288 with 1 Axes>"
      ]
     },
     "metadata": {},
     "output_type": "display_data"
    }
   ],
   "source": [
    "import matplotlib.pyplot as plt\n",
    "\n",
    "y = df.price\n",
    "y = y.diff()\n",
    "y[y>0] = 1\n",
    "y[y<0] = -1\n",
    "y = y.values[1:len(y)-1]\n",
    "\n",
    "attr1 = 'trade'\n",
    "attr2 = 'wiki'\n",
    "\n",
    "X = df.loc[0: len(y), [attr1, attr2]]\n",
    "\n",
    "plt.scatter(np.log(X.loc[y>=0, attr1]).values, np.log(X.loc[y>=0, attr2]).values, c = 'r')\n",
    "plt.scatter(np.log(X.loc[y<0, attr1]).values, np.log(X.loc[y<0, attr2]).values, c = 'b')\n",
    "plt.show()"
   ]
  },
  {
   "cell_type": "markdown",
   "metadata": {},
   "source": [
    "#### It seems we are in big trouble in predicting the price functuation!\n",
    "Because there isn't any significant pattern that we are able to draw linearly from the figure above. It seems all the classical linear algorithms that we have learnt from the textbooks are invalid under this senario. We need to find some other ways to do prediction."
   ]
  },
  {
   "cell_type": "markdown",
   "metadata": {},
   "source": [
    "### (3) Using Time Series Models: ADL(autogressive dynamic lag) model"
   ]
  },
  {
   "cell_type": "markdown",
   "metadata": {},
   "source": [
    "From economietrics course, we know the best time series model in the viewfield of econometrics is ADL model, which is given is this formation:\n",
    "\n",
    "$$Y_t = \\beta (1+L+L^2+...+L^{p-1})Y_{t-1}+\\alpha (1+L+L^2+...+L^{p-1})X_{t-1}$$\n",
    "\n",
    "ADL model may have a better performance in our case? Let find out. We have alredy written all the codes in the `LSTM.py` file (please check the file and look through our algoriths and ideas), and here we just display the result.\n",
    "\n",
    "First, we split the total data into training sample and test sample:"
   ]
  },
  {
   "cell_type": "code",
   "execution_count": 5,
   "metadata": {},
   "outputs": [],
   "source": [
    "from LSTM import Predictor\n",
    "from LSTM import Utils\n",
    "\n",
    "X = pd.DataFrame({'ln_trade':ln_trade, 'ln_trade2':ln_trade2, 'ln_wiki':ln_wiki})\n",
    "p = Predictor()\n",
    "sample_training = 200\n",
    "\n",
    "train_set_X = X[:sample_training] \n",
    "train_set_Y = ln_price[:sample_training]\n",
    "test_set_X = X[sample_training:]\n",
    "test_set_Y = ln_price[sample_training:]"
   ]
  },
  {
   "cell_type": "markdown",
   "metadata": {},
   "source": [
    "The accuracy for Pooled ADL : "
   ]
  },
  {
   "cell_type": "code",
   "execution_count": 6,
   "metadata": {},
   "outputs": [
    {
     "name": "stdout",
     "output_type": "stream",
     "text": [
      "train_acc:  0.5408163265306123 \n",
      "test_accu:  0.546583850931677\n"
     ]
    }
   ],
   "source": [
    "lag = 2\n",
    "\n",
    "## (1) Train pure ADL\n",
    "p.ADL_fit(train_set_Y, train_set_X, lag)\n",
    "re_train = p.ADL_predict_accuracy(train_set_Y, train_set_X, lag)\n",
    "## (2) Test pure ADL\n",
    "re_test = p.ADL_predict_accuracy(test_set_Y, test_set_X, lag)\n",
    "print('train_acc: ', re_train['accuracy'], '\\ntest_accu: ', re_test['accuracy'])\n"
   ]
  },
  {
   "cell_type": "markdown",
   "metadata": {},
   "source": [
    "### (4) Use LSTM (long and short term memory) Model"
   ]
  },
  {
   "cell_type": "markdown",
   "metadata": {},
   "source": [
    "We have written all the code of this method in `LSTM.py` file, and here we just call the method and display the result."
   ]
  },
  {
   "cell_type": "code",
   "execution_count": 7,
   "metadata": {},
   "outputs": [
    {
     "name": "stdout",
     "output_type": "stream",
     "text": [
      "Average trainning accuracy of Recursive ADL :  0.5263945578231293\n",
      "Average trainning accuracy of LSTM          :  0.6006944444444444\n",
      "Test accuracy of LSTM                       :  0.5757575757575758\n"
     ]
    }
   ],
   "source": [
    "## (1) Train LSTM\n",
    "\n",
    "sample_training = 200\n",
    "window = 50  # This parameter is the optimal after many tests.\n",
    "lag = 2\n",
    "\n",
    "train_re = p.LSTM_fit(train_set_Y, train_set_X, lag, window)\n",
    "\n",
    "nperf1 = np.array(train_re['ADL_accuracy'])\n",
    "nperf2 = np.array(train_re['LR_accuracy'])\n",
    "print(\"Average trainning accuracy of Recursive ADL : \", nperf1.mean())\n",
    "print(\"Average trainning accuracy of LSTM          : \", nperf2.mean())\n",
    "\n",
    "## (2) Test LSTM\n",
    "test_re = p.LSTM_predict_accuracy(test_set_Y, test_set_X, lag, window)\n",
    "print(\"Test accuracy of LSTM                       : \", test_re['accuracy'])\n"
   ]
  },
  {
   "cell_type": "markdown",
   "metadata": {},
   "source": [
    "### (4) Conclusion\n",
    "\n",
    "Pooled ADL is stationary, and does not face overfitting problem. But the accuracy is just a little bit higher than 0.5, which is not a good performance.\n",
    "\n",
    "LSTM is very sensitive to the input parameters, and the model can be overfitting in many cases, but it predict well under some optimal parameters."
   ]
  }
 ],
 "metadata": {
  "kernelspec": {
   "display_name": "Python 3",
   "language": "python",
   "name": "python3"
  },
  "language_info": {
   "codemirror_mode": {
    "name": "ipython",
    "version": 3
   },
   "file_extension": ".py",
   "mimetype": "text/x-python",
   "name": "python",
   "nbconvert_exporter": "python",
   "pygments_lexer": "ipython3",
   "version": "3.4.6"
  }
 },
 "nbformat": 4,
 "nbformat_minor": 2
}
