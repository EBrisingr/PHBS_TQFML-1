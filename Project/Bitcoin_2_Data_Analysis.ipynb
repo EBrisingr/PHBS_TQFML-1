{
 "cells": [
  {
   "cell_type": "markdown",
   "metadata": {},
   "source": [
    "# Project : The price fluctuations of bitcoin"
   ]
  },
  {
   "cell_type": "markdown",
   "metadata": {},
   "source": [
    "### (1) Loading local file into python environment"
   ]
  },
  {
   "cell_type": "markdown",
   "metadata": {},
   "source": [
    "We have already excuted `Bitcoin_1_Download_Data.ipynb` file, and we have a `Bitcoin_data.csv` file under current path. Let's load the data into python environment:"
   ]
  },
  {
   "cell_type": "code",
   "execution_count": 1,
   "metadata": {},
   "outputs": [
    {
     "data": {
      "text/html": [
       "<div>\n",
       "<style scoped>\n",
       "    .dataframe tbody tr th:only-of-type {\n",
       "        vertical-align: middle;\n",
       "    }\n",
       "\n",
       "    .dataframe tbody tr th {\n",
       "        vertical-align: top;\n",
       "    }\n",
       "\n",
       "    .dataframe thead th {\n",
       "        text-align: right;\n",
       "    }\n",
       "</style>\n",
       "<table border=\"1\" class=\"dataframe\">\n",
       "  <thead>\n",
       "    <tr style=\"text-align: right;\">\n",
       "      <th></th>\n",
       "      <th>date</th>\n",
       "      <th>price</th>\n",
       "      <th>supply</th>\n",
       "      <th>capital</th>\n",
       "      <th>trade</th>\n",
       "      <th>wiki</th>\n",
       "    </tr>\n",
       "  </thead>\n",
       "  <tbody>\n",
       "    <tr>\n",
       "      <th>0</th>\n",
       "      <td>2017-05-02</td>\n",
       "      <td>1452.076288</td>\n",
       "      <td>16307212.5</td>\n",
       "      <td>2.367932e+10</td>\n",
       "      <td>8.630647e+07</td>\n",
       "      <td>17143</td>\n",
       "    </tr>\n",
       "    <tr>\n",
       "      <th>1</th>\n",
       "      <td>2017-05-03</td>\n",
       "      <td>1507.576857</td>\n",
       "      <td>16308862.5</td>\n",
       "      <td>2.458686e+10</td>\n",
       "      <td>9.876808e+07</td>\n",
       "      <td>17277</td>\n",
       "    </tr>\n",
       "    <tr>\n",
       "      <th>2</th>\n",
       "      <td>2017-05-04</td>\n",
       "      <td>1508.292125</td>\n",
       "      <td>16310962.5</td>\n",
       "      <td>2.460170e+10</td>\n",
       "      <td>1.786810e+08</td>\n",
       "      <td>19238</td>\n",
       "    </tr>\n",
       "    <tr>\n",
       "      <th>3</th>\n",
       "      <td>2017-05-05</td>\n",
       "      <td>1533.335071</td>\n",
       "      <td>16312575.0</td>\n",
       "      <td>2.501264e+10</td>\n",
       "      <td>1.366548e+08</td>\n",
       "      <td>16900</td>\n",
       "    </tr>\n",
       "    <tr>\n",
       "      <th>4</th>\n",
       "      <td>2017-05-06</td>\n",
       "      <td>1560.410200</td>\n",
       "      <td>16314675.0</td>\n",
       "      <td>2.545759e+10</td>\n",
       "      <td>6.890728e+07</td>\n",
       "      <td>17793</td>\n",
       "    </tr>\n",
       "  </tbody>\n",
       "</table>\n",
       "</div>"
      ],
      "text/plain": [
       "         date        price      supply       capital         trade   wiki\n",
       "0  2017-05-02  1452.076288  16307212.5  2.367932e+10  8.630647e+07  17143\n",
       "1  2017-05-03  1507.576857  16308862.5  2.458686e+10  9.876808e+07  17277\n",
       "2  2017-05-04  1508.292125  16310962.5  2.460170e+10  1.786810e+08  19238\n",
       "3  2017-05-05  1533.335071  16312575.0  2.501264e+10  1.366548e+08  16900\n",
       "4  2017-05-06  1560.410200  16314675.0  2.545759e+10  6.890728e+07  17793"
      ]
     },
     "execution_count": 1,
     "metadata": {},
     "output_type": "execute_result"
    }
   ],
   "source": [
    "import numpy as np\n",
    "import pandas as pd\n",
    "\n",
    "df = pd.read_csv(\"./Bitcoin_data.csv\")\n",
    "df.head()"
   ]
  },
  {
   "cell_type": "markdown",
   "metadata": {},
   "source": [
    "Now, we first generate the interpreted variable, `y`, from the `price` attribute of dataframe `df`. We map the current price of bitcoin into a binary variable, 1 for 'going up' and -1 for 'going down', compared with the previous price. \n",
    "\n",
    "Also, we extract the explanary variables from dataframe `df`, and store them into a numpy array."
   ]
  },
  {
   "cell_type": "code",
   "execution_count": 2,
   "metadata": {},
   "outputs": [],
   "source": [
    "y = df.price\n",
    "y = y.diff().diff()\n",
    "y[y >= 0] = 1\n",
    "y[y < 0] = -1\n",
    "y = y.values[2:len(y)-1]\n",
    "\n",
    "attr1 = 'trade'\n",
    "attr2 = 'wiki'\n",
    "\n",
    "X = df.loc[2:,[attr1, attr2]]"
   ]
  },
  {
   "cell_type": "markdown",
   "metadata": {},
   "source": [
    "### (2) Let's find some interesting information"
   ]
  },
  {
   "cell_type": "code",
   "execution_count": 4,
   "metadata": {},
   "outputs": [
    {
     "data": {
      "image/png": "[encoded data removed]",
      "text/plain": [
       "<Figure size 432x288 with 1 Axes>"
      ]
     },
     "metadata": {},
     "output_type": "display_data"
    }
   ],
   "source": [
    "import matplotlib.pyplot as plt\n",
    "\n",
    "plt.scatter(X.loc[y>=0, attr1].values, X.loc[y>=0, attr2].values, c = 'r')\n",
    "plt.scatter(X.loc[y<0, attr1].values, X.loc[y<0, attr2].values, c = 'b')\n",
    "plt.show()"
   ]
  },
  {
   "cell_type": "markdown",
   "metadata": {},
   "source": [
    "# It seems we are in trouble in predicting the price functuation !!!!"
   ]
  }
 ],
 "metadata": {
  "kernelspec": {
   "display_name": "Python 3",
   "language": "python",
   "name": "python3"
  },
  "language_info": {
   "codemirror_mode": {
    "name": "ipython",
    "version": 3
   },
   "file_extension": ".py",
   "mimetype": "text/x-python",
   "name": "python",
   "nbconvert_exporter": "python",
   "pygments_lexer": "ipython3",
   "version": "3.4.6"
  }
 },
 "nbformat": 4,
 "nbformat_minor": 2
}
